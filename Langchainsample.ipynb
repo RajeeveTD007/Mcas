{
 "cells": [
  {
   "cell_type": "code",
   "execution_count": null,
   "id": "dc6a5136-d5a6-4c19-934e-f8761839518b",
   "metadata": {},
   "outputs": [],
   "source": [
    "pip install -U langchain-ollama"
   ]
  },
  {
   "cell_type": "code",
   "execution_count": 2,
   "id": "da687885-fa75-471d-90d5-e4e29999e9ce",
   "metadata": {},
   "outputs": [
    {
     "name": "stdout",
     "output_type": "stream",
     "text": [
      " Why was 6 afraid of 7? Because 7 8 9! (a play on the famous \"What time is it?\" scene in the movie \"The Hangover\" where the question and answer are spoken as numbers)\n",
      "\n"
     ]
    }
   ],
   "source": [
    "from langchain_ollama import OllamaLLM\n",
    "\n",
    "llm = OllamaLLM(model=\"phi\")\n",
    "\n",
    "try:\n",
    "    response = llm.invoke(\"tell me a math joke\")\n",
    "    print(response)\n",
    "except Exception as e:\n",
    "    print(f\"An error occurred: {e}\")"
   ]
  },
  {
   "cell_type": "code",
   "execution_count": 3,
   "id": "6a349266-b23d-4b53-b87f-920274e9f50b",
   "metadata": {},
   "outputs": [
    {
     "name": "stdout",
     "output_type": "stream",
     "text": [
      " Why did the bicycle fall over? Because it was two-tired!\n",
      "\n"
     ]
    }
   ],
   "source": [
    "from langchain_ollama import OllamaLLM\n",
    "\n",
    "llm = OllamaLLM(model=\"phi\")\n",
    "\n",
    "try:\n",
    "    response = llm.invoke(\"tell me a physics joke\")\n",
    "    print(response)\n",
    "except Exception as e:\n",
    "    print(f\"An error occurred: {e}\")\n",
    "      "
   ]
  },
  {
   "cell_type": "code",
   "execution_count": null,
   "id": "2aae0621-fe63-49e7-91e3-8d21ea8b9b76",
   "metadata": {},
   "outputs": [],
   "source": []
  }
 ],
 "metadata": {
  "kernelspec": {
   "display_name": "Python 3 (ipykernel)",
   "language": "python",
   "name": "python3"
  },
  "language_info": {
   "codemirror_mode": {
    "name": "ipython",
    "version": 3
   },
   "file_extension": ".py",
   "mimetype": "text/x-python",
   "name": "python",
   "nbconvert_exporter": "python",
   "pygments_lexer": "ipython3",
   "version": "3.11.5"
  }
 },
 "nbformat": 4,
 "nbformat_minor": 5
}
